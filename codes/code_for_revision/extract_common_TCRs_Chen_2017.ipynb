{
 "cells": [
  {
   "cell_type": "markdown",
   "id": "0b970a2f-088f-4704-99f7-081003650c56",
   "metadata": {},
   "source": [
    "Explore the TCRs provided in Chen et al. 2017\n",
    "\n",
    "    Chen et al. 2017 for NLV, (HLA)-A2+\n",
    "\n",
    "Transform to the format as in Emerson data\n",
    "\n",
    "Save out the subsets that appear in Emerson data"
   ]
  },
  {
   "cell_type": "code",
   "execution_count": 1,
   "id": "bb5f5af9-468d-4c56-bdb4-b0777e156c6f",
   "metadata": {},
   "outputs": [],
   "source": [
    "import pandas as pd\n",
    "import numpy as np\n",
    "import os\n",
    "\n",
    "from collections import defaultdict\n",
    "from collections import Counter"
   ]
  },
  {
   "cell_type": "code",
   "execution_count": 2,
   "id": "ca942bbe-9e8f-45f6-82c9-ab133b368466",
   "metadata": {},
   "outputs": [
    {
     "data": {
      "text/plain": [
       "(1098738, 1)"
      ]
     },
     "execution_count": 2,
     "metadata": {},
     "output_type": "execute_result"
    }
   ],
   "source": [
    "inter_dir = \"../intermediate_files/Chen_2017\"\n",
    "data_dir = \"../conditional_TCR_prediction/data\"\n",
    "\n",
    "# load all frequent TCRs from Emerson data\n",
    "df_tcrs = pd.read_csv(os.path.join(inter_dir,\"TCR_names.csv\"), \n",
    "                      header=0)\n",
    "df_tcrs.shape"
   ]
  },
  {
   "cell_type": "code",
   "execution_count": 3,
   "id": "e4aeb789-a099-40a5-85ca-3db78a954a06",
   "metadata": {},
   "outputs": [
    {
     "data": {
      "text/html": [
       "<div>\n",
       "<style scoped>\n",
       "    .dataframe tbody tr th:only-of-type {\n",
       "        vertical-align: middle;\n",
       "    }\n",
       "\n",
       "    .dataframe tbody tr th {\n",
       "        vertical-align: top;\n",
       "    }\n",
       "\n",
       "    .dataframe thead th {\n",
       "        text-align: right;\n",
       "    }\n",
       "</style>\n",
       "<table border=\"1\" class=\"dataframe\">\n",
       "  <thead>\n",
       "    <tr style=\"text-align: right;\">\n",
       "      <th></th>\n",
       "      <th>TCR_name</th>\n",
       "    </tr>\n",
       "  </thead>\n",
       "  <tbody>\n",
       "    <tr>\n",
       "      <th>0</th>\n",
       "      <td>TCRBV29-01*01,CSVEESYEQYF</td>\n",
       "    </tr>\n",
       "    <tr>\n",
       "      <th>1</th>\n",
       "      <td>TCRBV05-01*01,CASSLRGSGNTIYF</td>\n",
       "    </tr>\n",
       "    <tr>\n",
       "      <th>2</th>\n",
       "      <td>TCRBV04-02*01,CASSQEGQSSYEQYF</td>\n",
       "    </tr>\n",
       "    <tr>\n",
       "      <th>3</th>\n",
       "      <td>TCRBV06-05*01,CASSYSGSNQPQHF</td>\n",
       "    </tr>\n",
       "    <tr>\n",
       "      <th>4</th>\n",
       "      <td>TCRBV29-01*01,CSVYRGHEQYF</td>\n",
       "    </tr>\n",
       "    <tr>\n",
       "      <th>5</th>\n",
       "      <td>TCRBV06-04*01,CASSDNSGANVLTF</td>\n",
       "    </tr>\n",
       "  </tbody>\n",
       "</table>\n",
       "</div>"
      ],
      "text/plain": [
       "                        TCR_name\n",
       "0      TCRBV29-01*01,CSVEESYEQYF\n",
       "1   TCRBV05-01*01,CASSLRGSGNTIYF\n",
       "2  TCRBV04-02*01,CASSQEGQSSYEQYF\n",
       "3   TCRBV06-05*01,CASSYSGSNQPQHF\n",
       "4      TCRBV29-01*01,CSVYRGHEQYF\n",
       "5   TCRBV06-04*01,CASSDNSGANVLTF"
      ]
     },
     "execution_count": 3,
     "metadata": {},
     "output_type": "execute_result"
    }
   ],
   "source": [
    "df_tcrs[:6]"
   ]
  },
  {
   "cell_type": "code",
   "execution_count": 4,
   "id": "7572850b-580a-42fd-af76-641dc0a5c9b6",
   "metadata": {},
   "outputs": [],
   "source": [
    "# chen et al. 2017 for NLV, (HLA)-A2+\n",
    "df_chen = pd.read_excel(os.path.join(data_dir, \"Chen_2017\", \"Chen_2017_Table_S3.xlsx\"), \n",
    "                        sheet_name = \"ST3\", skiprows=1)\n",
    "df_chen = df_chen[:11637]"
   ]
  },
  {
   "cell_type": "code",
   "execution_count": 5,
   "id": "26b7ee52-a58e-402e-9f6a-7b26cae68a75",
   "metadata": {},
   "outputs": [
    {
     "data": {
      "text/html": [
       "<div>\n",
       "<style scoped>\n",
       "    .dataframe tbody tr th:only-of-type {\n",
       "        vertical-align: middle;\n",
       "    }\n",
       "\n",
       "    .dataframe tbody tr th {\n",
       "        vertical-align: top;\n",
       "    }\n",
       "\n",
       "    .dataframe thead th {\n",
       "        text-align: right;\n",
       "    }\n",
       "</style>\n",
       "<table border=\"1\" class=\"dataframe\">\n",
       "  <thead>\n",
       "    <tr style=\"text-align: right;\">\n",
       "      <th></th>\n",
       "      <th>Ag</th>\n",
       "      <th>chain</th>\n",
       "      <th>TCRV</th>\n",
       "      <th>CDR3</th>\n",
       "      <th>TCRJ</th>\n",
       "      <th>% of UMIs*</th>\n",
       "      <th># of Cross**</th>\n",
       "      <th>Ref***</th>\n",
       "      <th>Pair-index****</th>\n",
       "    </tr>\n",
       "  </thead>\n",
       "  <tbody>\n",
       "    <tr>\n",
       "      <th>11632</th>\n",
       "      <td>GIL</td>\n",
       "      <td>beta</td>\n",
       "      <td>TRBV6</td>\n",
       "      <td>SYSAAAGTSLDIQ</td>\n",
       "      <td>TRBJ2-4</td>\n",
       "      <td>NaN</td>\n",
       "      <td>NaN</td>\n",
       "      <td>43</td>\n",
       "      <td>pair216</td>\n",
       "    </tr>\n",
       "    <tr>\n",
       "      <th>11633</th>\n",
       "      <td>GIL</td>\n",
       "      <td>beta</td>\n",
       "      <td>TRBV27</td>\n",
       "      <td>SLIFPSGEQ</td>\n",
       "      <td>TRBJ2-7</td>\n",
       "      <td>NaN</td>\n",
       "      <td>NaN</td>\n",
       "      <td>43</td>\n",
       "      <td>pair217</td>\n",
       "    </tr>\n",
       "    <tr>\n",
       "      <th>11634</th>\n",
       "      <td>GIL</td>\n",
       "      <td>beta</td>\n",
       "      <td>TRBV19</td>\n",
       "      <td>SIGSYGY</td>\n",
       "      <td>TRBJ1-2</td>\n",
       "      <td>NaN</td>\n",
       "      <td>NaN</td>\n",
       "      <td>43</td>\n",
       "      <td>pair218</td>\n",
       "    </tr>\n",
       "    <tr>\n",
       "      <th>11635</th>\n",
       "      <td>GIL</td>\n",
       "      <td>beta</td>\n",
       "      <td>TRBV20-1</td>\n",
       "      <td>RTSGDFGEQ</td>\n",
       "      <td>TRBJ2-1</td>\n",
       "      <td>NaN</td>\n",
       "      <td>NaN</td>\n",
       "      <td>43</td>\n",
       "      <td>pair225</td>\n",
       "    </tr>\n",
       "    <tr>\n",
       "      <th>11636</th>\n",
       "      <td>GIL</td>\n",
       "      <td>beta</td>\n",
       "      <td>TRBV19</td>\n",
       "      <td>SIYGNTEA</td>\n",
       "      <td>TRBJ1-1</td>\n",
       "      <td>NaN</td>\n",
       "      <td>NaN</td>\n",
       "      <td>43</td>\n",
       "      <td>pair227</td>\n",
       "    </tr>\n",
       "  </tbody>\n",
       "</table>\n",
       "</div>"
      ],
      "text/plain": [
       "        Ag chain      TCRV           CDR3     TCRJ  % of UMIs*  # of Cross**  \\\n",
       "11632  GIL  beta     TRBV6  SYSAAAGTSLDIQ  TRBJ2-4         NaN           NaN   \n",
       "11633  GIL  beta    TRBV27      SLIFPSGEQ  TRBJ2-7         NaN           NaN   \n",
       "11634  GIL  beta    TRBV19        SIGSYGY  TRBJ1-2         NaN           NaN   \n",
       "11635  GIL  beta  TRBV20-1      RTSGDFGEQ  TRBJ2-1         NaN           NaN   \n",
       "11636  GIL  beta    TRBV19       SIYGNTEA  TRBJ1-1         NaN           NaN   \n",
       "\n",
       "      Ref*** Pair-index****  \n",
       "11632     43        pair216  \n",
       "11633     43        pair217  \n",
       "11634     43        pair218  \n",
       "11635     43        pair225  \n",
       "11636     43        pair227  "
      ]
     },
     "execution_count": 5,
     "metadata": {},
     "output_type": "execute_result"
    }
   ],
   "source": [
    "df_chen[11632:11637]"
   ]
  },
  {
   "cell_type": "code",
   "execution_count": 6,
   "id": "bcdd17af-c692-43bd-9d94-530dd7e4d944",
   "metadata": {},
   "outputs": [
    {
     "name": "stdout",
     "output_type": "stream",
     "text": [
      "Counter({'NLV': 6732, 'GIL': 4905})\n",
      "Counter({'beta': 6968, 'alpha': 4669})\n"
     ]
    }
   ],
   "source": [
    "print(Counter(df_chen[\"Ag\"]))\n",
    "print(Counter(df_chen[\"chain\"]))"
   ]
  },
  {
   "cell_type": "code",
   "execution_count": 7,
   "id": "624030ba-bc4e-4842-b3ed-9ca9b935e9de",
   "metadata": {},
   "outputs": [
    {
     "data": {
      "text/plain": [
       "(4508, 9)"
      ]
     },
     "execution_count": 7,
     "metadata": {},
     "output_type": "execute_result"
    }
   ],
   "source": [
    "df_chen_NLV = df_chen[(df_chen[\"Ag\"]==\"NLV\") & (df_chen[\"chain\"]==\"beta\")]\n",
    "df_chen_NLV.shape"
   ]
  },
  {
   "cell_type": "code",
   "execution_count": 8,
   "id": "ec8a9c69-efaa-4b12-8f54-775e8f4b35b1",
   "metadata": {},
   "outputs": [
    {
     "name": "stdout",
     "output_type": "stream",
     "text": [
      "Counter({'NLV': 4508})\n",
      "Counter({'beta': 4508})\n"
     ]
    }
   ],
   "source": [
    "print(Counter(df_chen_NLV[\"Ag\"]))\n",
    "print(Counter(df_chen_NLV[\"chain\"]))"
   ]
  },
  {
   "cell_type": "code",
   "execution_count": 9,
   "id": "d4f66519-fc9a-4946-b689-678e9d207683",
   "metadata": {},
   "outputs": [
    {
     "data": {
      "text/plain": [
       "69"
      ]
     },
     "execution_count": 9,
     "metadata": {},
     "output_type": "execute_result"
    }
   ],
   "source": [
    "len(set(df_chen_NLV[\"TCRV\"]))"
   ]
  },
  {
   "cell_type": "code",
   "execution_count": 10,
   "id": "20b6f2c7-60f5-4126-95e2-b0a2ff44114c",
   "metadata": {},
   "outputs": [
    {
     "data": {
      "text/plain": [
       "4492"
      ]
     },
     "execution_count": 10,
     "metadata": {},
     "output_type": "execute_result"
    }
   ],
   "source": [
    "all_NLVs = list(set([str(x)+\",\"+str(y) for x,y in zip(df_chen_NLV[\"TCRV\"].tolist(), \n",
    "                                                      df_chen_NLV[\"CDR3\"].tolist())]))\n",
    "len(all_NLVs)"
   ]
  },
  {
   "cell_type": "code",
   "execution_count": 11,
   "id": "4eda8f15-1688-48de-b790-c2747f3034c2",
   "metadata": {},
   "outputs": [
    {
     "data": {
      "text/plain": [
       "{'0',\n",
       " 'TRBV1',\n",
       " 'TRBV10-1',\n",
       " 'TRBV10-2',\n",
       " 'TRBV10-3',\n",
       " 'TRBV11',\n",
       " 'TRBV11-1',\n",
       " 'TRBV11-2',\n",
       " 'TRBV11-3',\n",
       " 'TRBV12-3',\n",
       " 'TRBV12-4',\n",
       " 'TRBV12-5',\n",
       " 'TRBV13',\n",
       " 'TRBV13-3',\n",
       " 'TRBV14',\n",
       " 'TRBV14-1',\n",
       " 'TRBV15',\n",
       " 'TRBV15-1',\n",
       " 'TRBV16',\n",
       " 'TRBV17-1',\n",
       " 'TRBV18',\n",
       " 'TRBV19',\n",
       " 'TRBV2',\n",
       " 'TRBV2-1',\n",
       " 'TRBV20',\n",
       " 'TRBV20-1',\n",
       " 'TRBV21',\n",
       " 'TRBV22',\n",
       " 'TRBV23',\n",
       " 'TRBV23-1',\n",
       " 'TRBV24-1',\n",
       " 'TRBV25-1',\n",
       " 'TRBV27',\n",
       " 'TRBV28',\n",
       " 'TRBV29',\n",
       " 'TRBV29-1',\n",
       " 'TRBV3',\n",
       " 'TRBV3-1',\n",
       " 'TRBV30',\n",
       " 'TRBV4',\n",
       " 'TRBV4-1',\n",
       " 'TRBV4-2',\n",
       " 'TRBV4-3',\n",
       " 'TRBV5-1',\n",
       " 'TRBV5-3',\n",
       " 'TRBV5-4',\n",
       " 'TRBV5-5',\n",
       " 'TRBV5-6',\n",
       " 'TRBV5-7',\n",
       " 'TRBV5-8',\n",
       " 'TRBV6',\n",
       " 'TRBV6-1',\n",
       " 'TRBV6-2',\n",
       " 'TRBV6-3',\n",
       " 'TRBV6-4',\n",
       " 'TRBV6-5',\n",
       " 'TRBV6-6',\n",
       " 'TRBV6-8',\n",
       " 'TRBV6-9',\n",
       " 'TRBV7-2',\n",
       " 'TRBV7-3',\n",
       " 'TRBV7-4',\n",
       " 'TRBV7-6',\n",
       " 'TRBV7-7',\n",
       " 'TRBV7-8',\n",
       " 'TRBV7-9',\n",
       " 'TRBV8',\n",
       " 'TRBV8-1',\n",
       " 'TRBV9'}"
      ]
     },
     "execution_count": 11,
     "metadata": {},
     "output_type": "execute_result"
    }
   ],
   "source": [
    "set([x.split(\",\")[0] for x in all_NLVs])"
   ]
  },
  {
   "cell_type": "code",
   "execution_count": 12,
   "id": "5ccfb220-7966-4f38-81c4-f22477b08c18",
   "metadata": {},
   "outputs": [
    {
     "data": {
      "text/plain": [
       "{'A',\n",
       " 'B',\n",
       " 'C',\n",
       " 'D',\n",
       " 'E',\n",
       " 'F',\n",
       " 'G',\n",
       " 'H',\n",
       " 'I',\n",
       " 'K',\n",
       " 'L',\n",
       " 'M',\n",
       " 'N',\n",
       " 'P',\n",
       " 'Q',\n",
       " 'R',\n",
       " 'S',\n",
       " 'T',\n",
       " 'V',\n",
       " 'W',\n",
       " 'X',\n",
       " 'Y'}"
      ]
     },
     "execution_count": 12,
     "metadata": {},
     "output_type": "execute_result"
    }
   ],
   "source": [
    "set(\"\".join([x.split(\",\")[1] for x in all_NLVs]))"
   ]
  },
  {
   "cell_type": "code",
   "execution_count": 13,
   "id": "f3fe2fda-91a1-4775-8793-5d4359303867",
   "metadata": {},
   "outputs": [
    {
     "data": {
      "text/plain": [
       "22"
      ]
     },
     "execution_count": 13,
     "metadata": {},
     "output_type": "execute_result"
    }
   ],
   "source": [
    "len(set(\"\".join([x.split(\",\")[1] for x in all_NLVs])))"
   ]
  },
  {
   "cell_type": "code",
   "execution_count": 14,
   "id": "6bfe96c8-b5bb-4466-ace2-c3aed83e2cfd",
   "metadata": {},
   "outputs": [
    {
     "data": {
      "text/html": [
       "<div>\n",
       "<style scoped>\n",
       "    .dataframe tbody tr th:only-of-type {\n",
       "        vertical-align: middle;\n",
       "    }\n",
       "\n",
       "    .dataframe tbody tr th {\n",
       "        vertical-align: top;\n",
       "    }\n",
       "\n",
       "    .dataframe thead th {\n",
       "        text-align: right;\n",
       "    }\n",
       "</style>\n",
       "<table border=\"1\" class=\"dataframe\">\n",
       "  <thead>\n",
       "    <tr style=\"text-align: right;\">\n",
       "      <th></th>\n",
       "      <th>Ag</th>\n",
       "      <th>chain</th>\n",
       "      <th>TCRV</th>\n",
       "      <th>CDR3</th>\n",
       "      <th>TCRJ</th>\n",
       "      <th>% of UMIs*</th>\n",
       "      <th># of Cross**</th>\n",
       "      <th>Ref***</th>\n",
       "      <th>Pair-index****</th>\n",
       "    </tr>\n",
       "  </thead>\n",
       "  <tbody>\n",
       "    <tr>\n",
       "      <th>6274</th>\n",
       "      <td>NLV</td>\n",
       "      <td>beta</td>\n",
       "      <td>0</td>\n",
       "      <td>ASQGTAATNTGELF</td>\n",
       "      <td>TRBJ2-2</td>\n",
       "      <td>NaN</td>\n",
       "      <td>NaN</td>\n",
       "      <td>14</td>\n",
       "      <td>NaN</td>\n",
       "    </tr>\n",
       "    <tr>\n",
       "      <th>6280</th>\n",
       "      <td>NLV</td>\n",
       "      <td>beta</td>\n",
       "      <td>0</td>\n",
       "      <td>ASRGLSGLTEAF</td>\n",
       "      <td>TRBJ1-1</td>\n",
       "      <td>NaN</td>\n",
       "      <td>NaN</td>\n",
       "      <td>14</td>\n",
       "      <td>NaN</td>\n",
       "    </tr>\n",
       "    <tr>\n",
       "      <th>6286</th>\n",
       "      <td>NLV</td>\n",
       "      <td>beta</td>\n",
       "      <td>0</td>\n",
       "      <td>ASRLLAGGDNEQF</td>\n",
       "      <td>0</td>\n",
       "      <td>NaN</td>\n",
       "      <td>NaN</td>\n",
       "      <td>25</td>\n",
       "      <td>NaN</td>\n",
       "    </tr>\n",
       "    <tr>\n",
       "      <th>6299</th>\n",
       "      <td>NLV</td>\n",
       "      <td>beta</td>\n",
       "      <td>0</td>\n",
       "      <td>ASSAYTGTVYGYT</td>\n",
       "      <td>0</td>\n",
       "      <td>NaN</td>\n",
       "      <td>NaN</td>\n",
       "      <td>25</td>\n",
       "      <td>NaN</td>\n",
       "    </tr>\n",
       "    <tr>\n",
       "      <th>6303</th>\n",
       "      <td>NLV</td>\n",
       "      <td>beta</td>\n",
       "      <td>0</td>\n",
       "      <td>ASSEALLGRANYGYT</td>\n",
       "      <td>0</td>\n",
       "      <td>NaN</td>\n",
       "      <td>NaN</td>\n",
       "      <td>25</td>\n",
       "      <td>NaN</td>\n",
       "    </tr>\n",
       "    <tr>\n",
       "      <th>6375</th>\n",
       "      <td>NLV</td>\n",
       "      <td>beta</td>\n",
       "      <td>0</td>\n",
       "      <td>ASSLEQHTEAF</td>\n",
       "      <td>TRBJ1-1</td>\n",
       "      <td>NaN</td>\n",
       "      <td>NaN</td>\n",
       "      <td>14</td>\n",
       "      <td>NaN</td>\n",
       "    </tr>\n",
       "    <tr>\n",
       "      <th>6431</th>\n",
       "      <td>NLV</td>\n",
       "      <td>beta</td>\n",
       "      <td>0</td>\n",
       "      <td>ASSPGQTFSNQPQH</td>\n",
       "      <td>0</td>\n",
       "      <td>NaN</td>\n",
       "      <td>NaN</td>\n",
       "      <td>25</td>\n",
       "      <td>NaN</td>\n",
       "    </tr>\n",
       "    <tr>\n",
       "      <th>6447</th>\n",
       "      <td>NLV</td>\n",
       "      <td>beta</td>\n",
       "      <td>0</td>\n",
       "      <td>ASSPLTGTGVYGYT</td>\n",
       "      <td>0</td>\n",
       "      <td>NaN</td>\n",
       "      <td>NaN</td>\n",
       "      <td>25</td>\n",
       "      <td>NaN</td>\n",
       "    </tr>\n",
       "    <tr>\n",
       "      <th>6462</th>\n",
       "      <td>NLV</td>\n",
       "      <td>beta</td>\n",
       "      <td>0</td>\n",
       "      <td>ASSPTTGTGNYGYT</td>\n",
       "      <td>0</td>\n",
       "      <td>NaN</td>\n",
       "      <td>NaN</td>\n",
       "      <td>25</td>\n",
       "      <td>NaN</td>\n",
       "    </tr>\n",
       "    <tr>\n",
       "      <th>6491</th>\n",
       "      <td>NLV</td>\n",
       "      <td>beta</td>\n",
       "      <td>0</td>\n",
       "      <td>ASSSRQGADTGELF</td>\n",
       "      <td>TRBJ2-2</td>\n",
       "      <td>NaN</td>\n",
       "      <td>NaN</td>\n",
       "      <td>14</td>\n",
       "      <td>NaN</td>\n",
       "    </tr>\n",
       "    <tr>\n",
       "      <th>6493</th>\n",
       "      <td>NLV</td>\n",
       "      <td>beta</td>\n",
       "      <td>0</td>\n",
       "      <td>ASSSSFPGGGNEQF</td>\n",
       "      <td>0</td>\n",
       "      <td>NaN</td>\n",
       "      <td>NaN</td>\n",
       "      <td>25</td>\n",
       "      <td>NaN</td>\n",
       "    </tr>\n",
       "    <tr>\n",
       "      <th>6518</th>\n",
       "      <td>NLV</td>\n",
       "      <td>beta</td>\n",
       "      <td>0</td>\n",
       "      <td>ASSYATGASYGYT</td>\n",
       "      <td>0</td>\n",
       "      <td>NaN</td>\n",
       "      <td>NaN</td>\n",
       "      <td>25</td>\n",
       "      <td>NaN</td>\n",
       "    </tr>\n",
       "    <tr>\n",
       "      <th>6546</th>\n",
       "      <td>NLV</td>\n",
       "      <td>beta</td>\n",
       "      <td>0</td>\n",
       "      <td>ASTLLGGAGYNEQF</td>\n",
       "      <td>0</td>\n",
       "      <td>NaN</td>\n",
       "      <td>NaN</td>\n",
       "      <td>25</td>\n",
       "      <td>NaN</td>\n",
       "    </tr>\n",
       "    <tr>\n",
       "      <th>6584</th>\n",
       "      <td>NLV</td>\n",
       "      <td>beta</td>\n",
       "      <td>0</td>\n",
       "      <td>GAGITDQGEVPNGYTF</td>\n",
       "      <td>0</td>\n",
       "      <td>NaN</td>\n",
       "      <td>NaN</td>\n",
       "      <td>25</td>\n",
       "      <td>NaN</td>\n",
       "    </tr>\n",
       "    <tr>\n",
       "      <th>6585</th>\n",
       "      <td>NLV</td>\n",
       "      <td>beta</td>\n",
       "      <td>0</td>\n",
       "      <td>GAGITDQGEVPYGYTF</td>\n",
       "      <td>0</td>\n",
       "      <td>NaN</td>\n",
       "      <td>NaN</td>\n",
       "      <td>25</td>\n",
       "      <td>NaN</td>\n",
       "    </tr>\n",
       "    <tr>\n",
       "      <th>6604</th>\n",
       "      <td>NLV</td>\n",
       "      <td>beta</td>\n",
       "      <td>0</td>\n",
       "      <td>SLCQQLLFSGGGNEQFF</td>\n",
       "      <td>0</td>\n",
       "      <td>NaN</td>\n",
       "      <td>NaN</td>\n",
       "      <td>25</td>\n",
       "      <td>NaN</td>\n",
       "    </tr>\n",
       "  </tbody>\n",
       "</table>\n",
       "</div>"
      ],
      "text/plain": [
       "       Ag chain TCRV               CDR3     TCRJ  % of UMIs*  # of Cross**  \\\n",
       "6274  NLV  beta    0     ASQGTAATNTGELF  TRBJ2-2         NaN           NaN   \n",
       "6280  NLV  beta    0       ASRGLSGLTEAF  TRBJ1-1         NaN           NaN   \n",
       "6286  NLV  beta    0      ASRLLAGGDNEQF        0         NaN           NaN   \n",
       "6299  NLV  beta    0      ASSAYTGTVYGYT        0         NaN           NaN   \n",
       "6303  NLV  beta    0    ASSEALLGRANYGYT        0         NaN           NaN   \n",
       "6375  NLV  beta    0        ASSLEQHTEAF  TRBJ1-1         NaN           NaN   \n",
       "6431  NLV  beta    0     ASSPGQTFSNQPQH        0         NaN           NaN   \n",
       "6447  NLV  beta    0     ASSPLTGTGVYGYT        0         NaN           NaN   \n",
       "6462  NLV  beta    0     ASSPTTGTGNYGYT        0         NaN           NaN   \n",
       "6491  NLV  beta    0     ASSSRQGADTGELF  TRBJ2-2         NaN           NaN   \n",
       "6493  NLV  beta    0     ASSSSFPGGGNEQF        0         NaN           NaN   \n",
       "6518  NLV  beta    0      ASSYATGASYGYT        0         NaN           NaN   \n",
       "6546  NLV  beta    0     ASTLLGGAGYNEQF        0         NaN           NaN   \n",
       "6584  NLV  beta    0   GAGITDQGEVPNGYTF        0         NaN           NaN   \n",
       "6585  NLV  beta    0   GAGITDQGEVPYGYTF        0         NaN           NaN   \n",
       "6604  NLV  beta    0  SLCQQLLFSGGGNEQFF        0         NaN           NaN   \n",
       "\n",
       "     Ref*** Pair-index****  \n",
       "6274     14            NaN  \n",
       "6280     14            NaN  \n",
       "6286     25            NaN  \n",
       "6299     25            NaN  \n",
       "6303     25            NaN  \n",
       "6375     14            NaN  \n",
       "6431     25            NaN  \n",
       "6447     25            NaN  \n",
       "6462     25            NaN  \n",
       "6491     14            NaN  \n",
       "6493     25            NaN  \n",
       "6518     25            NaN  \n",
       "6546     25            NaN  \n",
       "6584     25            NaN  \n",
       "6585     25            NaN  \n",
       "6604     25            NaN  "
      ]
     },
     "execution_count": 14,
     "metadata": {},
     "output_type": "execute_result"
    }
   ],
   "source": [
    "df_chen[df_chen[\"TCRV\"]==0]"
   ]
  },
  {
   "cell_type": "code",
   "execution_count": 15,
   "id": "01750511-cf2c-44ab-ae77-8855bbb25c9b",
   "metadata": {},
   "outputs": [
    {
     "data": {
      "text/plain": [
       "4476"
      ]
     },
     "execution_count": 15,
     "metadata": {},
     "output_type": "execute_result"
    }
   ],
   "source": [
    "all_NLVs_kept = [x for x in all_NLVs if x.split(\",\")[0]!=\"0\"]\n",
    "len(all_NLVs_kept)"
   ]
  },
  {
   "cell_type": "code",
   "execution_count": 16,
   "id": "a2178d15-e5d9-46b8-8a49-7c8b759ccb79",
   "metadata": {},
   "outputs": [
    {
     "data": {
      "text/plain": [
       "{'TCRBV01-01*01',\n",
       " 'TCRBV02-01*01',\n",
       " 'TCRBV03-01*01',\n",
       " 'TCRBV04-01*01',\n",
       " 'TCRBV04-02*01',\n",
       " 'TCRBV04-03*01',\n",
       " 'TCRBV05-01*01',\n",
       " 'TCRBV05-03*01',\n",
       " 'TCRBV05-04*01',\n",
       " 'TCRBV05-05*01',\n",
       " 'TCRBV05-06*01',\n",
       " 'TCRBV05-08*01',\n",
       " 'TCRBV06-01*01',\n",
       " 'TCRBV06-04*01',\n",
       " 'TCRBV06-05*01',\n",
       " 'TCRBV06-06*01',\n",
       " 'TCRBV06-07*01',\n",
       " 'TCRBV06-09*01',\n",
       " 'TCRBV07-02*01',\n",
       " 'TCRBV07-03*01',\n",
       " 'TCRBV07-04*01',\n",
       " 'TCRBV07-06*01',\n",
       " 'TCRBV07-07*01',\n",
       " 'TCRBV07-08*01',\n",
       " 'TCRBV07-08*02',\n",
       " 'TCRBV07-09*01',\n",
       " 'TCRBV08-02*01',\n",
       " 'TCRBV09-01*01',\n",
       " 'TCRBV10-01*01',\n",
       " 'TCRBV10-02*01',\n",
       " 'TCRBV10-03*01',\n",
       " 'TCRBV11-01*01',\n",
       " 'TCRBV11-02*02',\n",
       " 'TCRBV11-03*01',\n",
       " 'TCRBV12-01*01',\n",
       " 'TCRBV12-02*01',\n",
       " 'TCRBV12-05*01',\n",
       " 'TCRBV13-01*01',\n",
       " 'TCRBV14-01*01',\n",
       " 'TCRBV15-01*01',\n",
       " 'TCRBV16-01*01',\n",
       " 'TCRBV18-01*01',\n",
       " 'TCRBV19-01*01',\n",
       " 'TCRBV20-01*01',\n",
       " 'TCRBV21-01*01',\n",
       " 'TCRBV23-01*01',\n",
       " 'TCRBV25-01*01',\n",
       " 'TCRBV27-01*01',\n",
       " 'TCRBV28-01*01',\n",
       " 'TCRBV29-01*01',\n",
       " 'TCRBV30-01*01',\n",
       " 'TCRBV30-01*02'}"
      ]
     },
     "execution_count": 16,
     "metadata": {},
     "output_type": "execute_result"
    }
   ],
   "source": [
    "all_Emerson_Vs = [x.split(\",\")[0] for x in df_tcrs[\"TCR_name\"].tolist()]\n",
    "set(all_Emerson_Vs)"
   ]
  },
  {
   "cell_type": "code",
   "execution_count": 17,
   "id": "2c538a23-08eb-42a0-8311-878a43f9056e",
   "metadata": {},
   "outputs": [],
   "source": [
    "Emerson_num_dict = defaultdict(list)\n",
    "\n",
    "temp_list = list(set(all_Emerson_Vs))\n",
    "\n",
    "for x in temp_list:\n",
    "    x_split = x.split(\"*\")[0].split(\"-\")\n",
    "    Emerson_num_dict[x_split[0]] += [x_split[1]]"
   ]
  },
  {
   "cell_type": "code",
   "execution_count": 18,
   "id": "f07d5e9c-1adf-4e3f-a95d-8fa326987b84",
   "metadata": {},
   "outputs": [
    {
     "data": {
      "text/plain": [
       "defaultdict(list,\n",
       "            {'TCRBV16': ['01'],\n",
       "             'TCRBV01': ['01'],\n",
       "             'TCRBV13': ['01'],\n",
       "             'TCRBV06': ['04', '07', '05', '06', '09', '01'],\n",
       "             'TCRBV07': ['02', '08', '07', '08', '03', '04', '09', '06'],\n",
       "             'TCRBV11': ['03', '01', '02'],\n",
       "             'TCRBV05': ['03', '06', '05', '08', '04', '01'],\n",
       "             'TCRBV10': ['01', '03', '02'],\n",
       "             'TCRBV30': ['01', '01'],\n",
       "             'TCRBV28': ['01'],\n",
       "             'TCRBV20': ['01'],\n",
       "             'TCRBV03': ['01'],\n",
       "             'TCRBV09': ['01'],\n",
       "             'TCRBV02': ['01'],\n",
       "             'TCRBV27': ['01'],\n",
       "             'TCRBV12': ['05', '01', '02'],\n",
       "             'TCRBV21': ['01'],\n",
       "             'TCRBV23': ['01'],\n",
       "             'TCRBV29': ['01'],\n",
       "             'TCRBV18': ['01'],\n",
       "             'TCRBV04': ['02', '01', '03'],\n",
       "             'TCRBV25': ['01'],\n",
       "             'TCRBV08': ['02'],\n",
       "             'TCRBV19': ['01'],\n",
       "             'TCRBV14': ['01'],\n",
       "             'TCRBV15': ['01']})"
      ]
     },
     "execution_count": 18,
     "metadata": {},
     "output_type": "execute_result"
    }
   ],
   "source": [
    "Emerson_num_dict"
   ]
  },
  {
   "cell_type": "code",
   "execution_count": 19,
   "id": "7bfc7785-e888-45ef-8b20-926d872dbd2c",
   "metadata": {},
   "outputs": [],
   "source": [
    "emerson_1st_layer = defaultdict(list)\n",
    "emerson_2nd_layer = defaultdict(list)\n",
    "\n",
    "for x in temp_list:\n",
    "    x_split_2nd = x.split(\"*\")\n",
    "    x_split_1st = x_split_2nd[0].split(\"-\")\n",
    "    emerson_1st_layer[x_split_1st[0]] += [x_split_1st[1]]\n",
    "    emerson_2nd_layer[x_split_2nd[0]] += [x_split_2nd[1]]    "
   ]
  },
  {
   "cell_type": "code",
   "execution_count": 20,
   "id": "cd478598-bfe1-46c3-91ab-ad8a2e0be806",
   "metadata": {},
   "outputs": [
    {
     "data": {
      "text/plain": [
       "defaultdict(list,\n",
       "            {'TCRBV16': ['01'],\n",
       "             'TCRBV01': ['01'],\n",
       "             'TCRBV13': ['01'],\n",
       "             'TCRBV06': ['04', '07', '05', '06', '09', '01'],\n",
       "             'TCRBV07': ['02', '08', '07', '08', '03', '04', '09', '06'],\n",
       "             'TCRBV11': ['03', '01', '02'],\n",
       "             'TCRBV05': ['03', '06', '05', '08', '04', '01'],\n",
       "             'TCRBV10': ['01', '03', '02'],\n",
       "             'TCRBV30': ['01', '01'],\n",
       "             'TCRBV28': ['01'],\n",
       "             'TCRBV20': ['01'],\n",
       "             'TCRBV03': ['01'],\n",
       "             'TCRBV09': ['01'],\n",
       "             'TCRBV02': ['01'],\n",
       "             'TCRBV27': ['01'],\n",
       "             'TCRBV12': ['05', '01', '02'],\n",
       "             'TCRBV21': ['01'],\n",
       "             'TCRBV23': ['01'],\n",
       "             'TCRBV29': ['01'],\n",
       "             'TCRBV18': ['01'],\n",
       "             'TCRBV04': ['02', '01', '03'],\n",
       "             'TCRBV25': ['01'],\n",
       "             'TCRBV08': ['02'],\n",
       "             'TCRBV19': ['01'],\n",
       "             'TCRBV14': ['01'],\n",
       "             'TCRBV15': ['01']})"
      ]
     },
     "execution_count": 20,
     "metadata": {},
     "output_type": "execute_result"
    }
   ],
   "source": [
    "emerson_1st_layer"
   ]
  },
  {
   "cell_type": "code",
   "execution_count": 21,
   "id": "b509d1b2-1e8f-44e6-879f-25cbb712affa",
   "metadata": {},
   "outputs": [],
   "source": [
    "# translate the format of V gene from Chen et al. 2017 data\n",
    "# if first num string has only one character, add 0\n",
    "# if no second num string, take the first one in the ordered Emerson list\n",
    "# if second num string has only one character, add 0\n",
    "# after the second num string, take the first one in the ordered Emerson list for the part after *\n",
    "\n",
    "chen_trans_dict = defaultdict(str)\n",
    "\n",
    "chen_V_list = list(set([x.split(\",\")[0] for x in all_NLVs_kept]))\n",
    "chen_V_list.sort()\n",
    "\n",
    "for x in chen_V_list:\n",
    "    x_split = x.split(\"-\")\n",
    "    if len(x_split)==1:\n",
    "        if len(x_split[0])==5:\n",
    "            x_key = \"TCRBV0\"+x[-1]\n",
    "        else:\n",
    "            x_key = \"TCRBV\"+x_split[0][(-2):] \n",
    "        if x_key in emerson_1st_layer:\n",
    "            x_first_vs = emerson_1st_layer[x_key]\n",
    "            x_first_vs.sort()\n",
    "            x_key_2nd = x_key+\"-\"+x_first_vs[0]\n",
    "            x_second_vs = emerson_2nd_layer[x_key_2nd]\n",
    "            x_second_vs.sort()\n",
    "            x_value = x_key_2nd+\"*\"+x_second_vs[0]\n",
    "            chen_trans_dict[x] = x_value \n",
    "    else:\n",
    "        if len(x_split[0])==5:\n",
    "            x_key = \"TCRBV0\"+x_split[0][-1]\n",
    "        else:\n",
    "            x_key = \"TCRBV\"+x_split[0][(-2):] \n",
    "        x_key_2nd = x_key+\"-0\"+x_split[1]\n",
    "        if x_key_2nd in emerson_2nd_layer:\n",
    "            x_second_vs = emerson_2nd_layer[x_key_2nd]\n",
    "            x_second_vs.sort()\n",
    "            x_value = x_key_2nd+\"*\"+x_second_vs[0]  \n",
    "            chen_trans_dict[x] = x_value "
   ]
  },
  {
   "cell_type": "code",
   "execution_count": 22,
   "id": "fd9f0c26-1ac1-4fd5-bb0c-b77cb190533f",
   "metadata": {},
   "outputs": [
    {
     "data": {
      "text/plain": [
       "defaultdict(str,\n",
       "            {'TRBV1': 'TCRBV01-01*01',\n",
       "             'TRBV10-1': 'TCRBV10-01*01',\n",
       "             'TRBV10-2': 'TCRBV10-02*01',\n",
       "             'TRBV10-3': 'TCRBV10-03*01',\n",
       "             'TRBV11': 'TCRBV11-01*01',\n",
       "             'TRBV11-1': 'TCRBV11-01*01',\n",
       "             'TRBV11-2': 'TCRBV11-02*02',\n",
       "             'TRBV11-3': 'TCRBV11-03*01',\n",
       "             'TRBV12-5': 'TCRBV12-05*01',\n",
       "             'TRBV13': 'TCRBV13-01*01',\n",
       "             'TRBV14': 'TCRBV14-01*01',\n",
       "             'TRBV14-1': 'TCRBV14-01*01',\n",
       "             'TRBV15': 'TCRBV15-01*01',\n",
       "             'TRBV15-1': 'TCRBV15-01*01',\n",
       "             'TRBV16': 'TCRBV16-01*01',\n",
       "             'TRBV18': 'TCRBV18-01*01',\n",
       "             'TRBV19': 'TCRBV19-01*01',\n",
       "             'TRBV2': 'TCRBV02-01*01',\n",
       "             'TRBV2-1': 'TCRBV02-01*01',\n",
       "             'TRBV20': 'TCRBV20-01*01',\n",
       "             'TRBV20-1': 'TCRBV20-01*01',\n",
       "             'TRBV21': 'TCRBV21-01*01',\n",
       "             'TRBV23': 'TCRBV23-01*01',\n",
       "             'TRBV23-1': 'TCRBV23-01*01',\n",
       "             'TRBV25-1': 'TCRBV25-01*01',\n",
       "             'TRBV27': 'TCRBV27-01*01',\n",
       "             'TRBV28': 'TCRBV28-01*01',\n",
       "             'TRBV29': 'TCRBV29-01*01',\n",
       "             'TRBV29-1': 'TCRBV29-01*01',\n",
       "             'TRBV3': 'TCRBV03-01*01',\n",
       "             'TRBV3-1': 'TCRBV03-01*01',\n",
       "             'TRBV30': 'TCRBV30-01*01',\n",
       "             'TRBV4': 'TCRBV04-01*01',\n",
       "             'TRBV4-1': 'TCRBV04-01*01',\n",
       "             'TRBV4-2': 'TCRBV04-02*01',\n",
       "             'TRBV4-3': 'TCRBV04-03*01',\n",
       "             'TRBV5-1': 'TCRBV05-01*01',\n",
       "             'TRBV5-3': 'TCRBV05-03*01',\n",
       "             'TRBV5-4': 'TCRBV05-04*01',\n",
       "             'TRBV5-5': 'TCRBV05-05*01',\n",
       "             'TRBV5-6': 'TCRBV05-06*01',\n",
       "             'TRBV5-8': 'TCRBV05-08*01',\n",
       "             'TRBV6': 'TCRBV06-01*01',\n",
       "             'TRBV6-1': 'TCRBV06-01*01',\n",
       "             'TRBV6-4': 'TCRBV06-04*01',\n",
       "             'TRBV6-5': 'TCRBV06-05*01',\n",
       "             'TRBV6-6': 'TCRBV06-06*01',\n",
       "             'TRBV6-9': 'TCRBV06-09*01',\n",
       "             'TRBV7-2': 'TCRBV07-02*01',\n",
       "             'TRBV7-3': 'TCRBV07-03*01',\n",
       "             'TRBV7-4': 'TCRBV07-04*01',\n",
       "             'TRBV7-6': 'TCRBV07-06*01',\n",
       "             'TRBV7-7': 'TCRBV07-07*01',\n",
       "             'TRBV7-8': 'TCRBV07-08*01',\n",
       "             'TRBV7-9': 'TCRBV07-09*01',\n",
       "             'TRBV8': 'TCRBV08-02*01',\n",
       "             'TRBV9': 'TCRBV09-01*01'})"
      ]
     },
     "execution_count": 22,
     "metadata": {},
     "output_type": "execute_result"
    }
   ],
   "source": [
    "chen_trans_dict"
   ]
  },
  {
   "cell_type": "code",
   "execution_count": 23,
   "id": "7572340c-f581-4024-8227-2b8fb4c9bdff",
   "metadata": {},
   "outputs": [
    {
     "data": {
      "text/plain": [
       "57"
      ]
     },
     "execution_count": 23,
     "metadata": {},
     "output_type": "execute_result"
    }
   ],
   "source": [
    "len(chen_trans_dict)"
   ]
  },
  {
   "cell_type": "code",
   "execution_count": 24,
   "id": "5bcf3b57-3884-4fc0-9faa-6b96ca47a414",
   "metadata": {},
   "outputs": [
    {
     "data": {
      "text/plain": [
       "68"
      ]
     },
     "execution_count": 24,
     "metadata": {},
     "output_type": "execute_result"
    }
   ],
   "source": [
    "len(chen_V_list)"
   ]
  },
  {
   "cell_type": "code",
   "execution_count": 25,
   "id": "9b6f2263-88c8-4295-a256-68ea743a3146",
   "metadata": {},
   "outputs": [
    {
     "data": {
      "text/plain": [
       "['TRBV12-3',\n",
       " 'TRBV12-4',\n",
       " 'TRBV13-3',\n",
       " 'TRBV17-1',\n",
       " 'TRBV22',\n",
       " 'TRBV24-1',\n",
       " 'TRBV5-7',\n",
       " 'TRBV6-2',\n",
       " 'TRBV6-3',\n",
       " 'TRBV6-8',\n",
       " 'TRBV8-1']"
      ]
     },
     "execution_count": 25,
     "metadata": {},
     "output_type": "execute_result"
    }
   ],
   "source": [
    "[x for x in chen_V_list if x not in chen_trans_dict]"
   ]
  },
  {
   "cell_type": "markdown",
   "id": "16311f25-4f81-4c8f-be18-37e58585ab0f",
   "metadata": {},
   "source": [
    "## It is needed to pad the starting and the ending locations with \"C\" and \"F\"\n",
    "\n",
    "Chen et al. 2017 TCRs seem to have left these out. \n",
    "\n",
    "If directly matching without padding these two, there will be no overlap. \\\n",
    "\n",
    "About \"C\" and \"F\", see the question:\n",
    "\n",
    "    How are the positions of gaps and insertions placed in IMGT Collier de Perles?\n",
    "\n",
    "from this IMGT webpage:\n",
    "\n",
    "    https://www.imgt.org/FAQ/"
   ]
  },
  {
   "cell_type": "code",
   "execution_count": 26,
   "id": "01485792-9969-4882-bb5e-6764900a6755",
   "metadata": {},
   "outputs": [
    {
     "data": {
      "text/plain": [
       "4068"
      ]
     },
     "execution_count": 26,
     "metadata": {},
     "output_type": "execute_result"
    }
   ],
   "source": [
    "all_NLVs_kept_translated = [chen_trans_dict[x.split(\",\")[0]]+\",C\"+x.split(\",\")[1]+\"F\"\n",
    "                            for x in all_NLVs_kept if x.split(\",\")[0] in chen_trans_dict]\n",
    "len(all_NLVs_kept_translated)"
   ]
  },
  {
   "cell_type": "code",
   "execution_count": 27,
   "id": "0b6fa280-f807-4cf9-a292-9742b42fd225",
   "metadata": {},
   "outputs": [
    {
     "data": {
      "text/plain": [
       "4068"
      ]
     },
     "execution_count": 27,
     "metadata": {},
     "output_type": "execute_result"
    }
   ],
   "source": [
    "all_NLVs_kept_translated_unique = list(set(all_NLVs_kept_translated))\n",
    "len(all_NLVs_kept_translated_unique)"
   ]
  },
  {
   "cell_type": "code",
   "execution_count": 28,
   "id": "faf296cb-4ee5-4637-8c37-0ef585ad0f08",
   "metadata": {},
   "outputs": [
    {
     "data": {
      "text/plain": [
       "535"
      ]
     },
     "execution_count": 28,
     "metadata": {},
     "output_type": "execute_result"
    }
   ],
   "source": [
    "NLV_common = set(all_NLVs_kept_translated_unique).intersection(set(df_tcrs[\"TCR_name\"].tolist()))\n",
    "len(NLV_common)"
   ]
  },
  {
   "cell_type": "code",
   "execution_count": 29,
   "id": "93b4a8cb-f206-4fb9-8e1d-d1fbe687fe86",
   "metadata": {},
   "outputs": [
    {
     "data": {
      "text/plain": [
       "Counter({'F': 1098624, 'V': 108, 'P': 2, 'A': 2, 'Q': 1, 'L': 1})"
      ]
     },
     "execution_count": 29,
     "metadata": {},
     "output_type": "execute_result"
    }
   ],
   "source": [
    "Counter([x[-1] for x in df_tcrs[\"TCR_name\"].tolist()])"
   ]
  },
  {
   "cell_type": "code",
   "execution_count": 30,
   "id": "79dc156a-28e8-494e-9ce4-d8238f12a8fa",
   "metadata": {},
   "outputs": [],
   "source": [
    "df_NLV_common = pd.DataFrame(NLV_common, columns=[\"TCR_name\"])\n",
    "df_NLV_common.to_csv(os.path.join(inter_dir, \"Chen_2017_TCRs_processed_common.csv\"), \n",
    "                     index=False)"
   ]
  },
  {
   "cell_type": "code",
   "execution_count": null,
   "id": "b7f89e87-01a6-4f6d-9688-3f0b895381c7",
   "metadata": {},
   "outputs": [],
   "source": []
  }
 ],
 "metadata": {
  "kernelspec": {
   "display_name": "Python 3 (ipykernel)",
   "language": "python",
   "name": "python3"
  },
  "language_info": {
   "codemirror_mode": {
    "name": "ipython",
    "version": 3
   },
   "file_extension": ".py",
   "mimetype": "text/x-python",
   "name": "python",
   "nbconvert_exporter": "python",
   "pygments_lexer": "ipython3",
   "version": "3.10.8"
  }
 },
 "nbformat": 4,
 "nbformat_minor": 5
}
