{
 "cells": [
  {
   "cell_type": "markdown",
   "id": "0b970a2f-088f-4704-99f7-081003650c56",
   "metadata": {},
   "source": [
    "Explore the TCRs provided in Huth et al. 2019\n",
    "\n",
    "    Huth et al. 2019\n",
    "    HLA-B*07:02: RPH, TPR\n",
    "    HLA-C*07:02: CRV, FRC\n",
    "\n",
    "Transform to the format as in Emerson data\n",
    "\n",
    "Save out the subsets that appear in Emerson data"
   ]
  },
  {
   "cell_type": "code",
   "execution_count": 1,
   "id": "bb5f5af9-468d-4c56-bdb4-b0777e156c6f",
   "metadata": {},
   "outputs": [],
   "source": [
    "import pandas as pd\n",
    "import numpy as np\n",
    "import os\n",
    "\n",
    "from collections import defaultdict\n",
    "from collections import Counter"
   ]
  },
  {
   "cell_type": "code",
   "execution_count": 5,
   "id": "ca942bbe-9e8f-45f6-82c9-ab133b368466",
   "metadata": {},
   "outputs": [
    {
     "data": {
      "text/plain": [
       "(1098738, 1)"
      ]
     },
     "execution_count": 5,
     "metadata": {},
     "output_type": "execute_result"
    }
   ],
   "source": [
    "inter_dir = \"../intermediate_files/Huth_2019\"\n",
    "data_dir = \"../../data\"\n",
    "\n",
    "# load all frequent TCRs from Emerson data\n",
    "df_tcrs = pd.read_csv(os.path.join(inter_dir,\"TCR_names.csv\"), \n",
    "                      header=0)\n",
    "df_tcrs.shape"
   ]
  },
  {
   "cell_type": "code",
   "execution_count": 3,
   "id": "e4aeb789-a099-40a5-85ca-3db78a954a06",
   "metadata": {},
   "outputs": [
    {
     "data": {
      "text/html": [
       "<div>\n",
       "<style scoped>\n",
       "    .dataframe tbody tr th:only-of-type {\n",
       "        vertical-align: middle;\n",
       "    }\n",
       "\n",
       "    .dataframe tbody tr th {\n",
       "        vertical-align: top;\n",
       "    }\n",
       "\n",
       "    .dataframe thead th {\n",
       "        text-align: right;\n",
       "    }\n",
       "</style>\n",
       "<table border=\"1\" class=\"dataframe\">\n",
       "  <thead>\n",
       "    <tr style=\"text-align: right;\">\n",
       "      <th></th>\n",
       "      <th>TCR_name</th>\n",
       "    </tr>\n",
       "  </thead>\n",
       "  <tbody>\n",
       "    <tr>\n",
       "      <th>0</th>\n",
       "      <td>TCRBV29-01*01,CSVEESYEQYF</td>\n",
       "    </tr>\n",
       "    <tr>\n",
       "      <th>1</th>\n",
       "      <td>TCRBV05-01*01,CASSLRGSGNTIYF</td>\n",
       "    </tr>\n",
       "    <tr>\n",
       "      <th>2</th>\n",
       "      <td>TCRBV04-02*01,CASSQEGQSSYEQYF</td>\n",
       "    </tr>\n",
       "    <tr>\n",
       "      <th>3</th>\n",
       "      <td>TCRBV06-05*01,CASSYSGSNQPQHF</td>\n",
       "    </tr>\n",
       "    <tr>\n",
       "      <th>4</th>\n",
       "      <td>TCRBV29-01*01,CSVYRGHEQYF</td>\n",
       "    </tr>\n",
       "    <tr>\n",
       "      <th>5</th>\n",
       "      <td>TCRBV06-04*01,CASSDNSGANVLTF</td>\n",
       "    </tr>\n",
       "  </tbody>\n",
       "</table>\n",
       "</div>"
      ],
      "text/plain": [
       "                        TCR_name\n",
       "0      TCRBV29-01*01,CSVEESYEQYF\n",
       "1   TCRBV05-01*01,CASSLRGSGNTIYF\n",
       "2  TCRBV04-02*01,CASSQEGQSSYEQYF\n",
       "3   TCRBV06-05*01,CASSYSGSNQPQHF\n",
       "4      TCRBV29-01*01,CSVYRGHEQYF\n",
       "5   TCRBV06-04*01,CASSDNSGANVLTF"
      ]
     },
     "execution_count": 3,
     "metadata": {},
     "output_type": "execute_result"
    }
   ],
   "source": [
    "df_tcrs[:6]"
   ]
  },
  {
   "cell_type": "code",
   "execution_count": 10,
   "id": "5e40bfdd-b058-418e-bdc7-f0dfa057deff",
   "metadata": {},
   "outputs": [
    {
     "name": "stdout",
     "output_type": "stream",
     "text": [
      "(435, 8)\n",
      "(266, 8)\n",
      "(191, 8)\n",
      "(160, 8)\n"
     ]
    }
   ],
   "source": [
    "# Huth et al. 2019 for RPH, TPR, CRV, FRC\n",
    "df_CRV = pd.read_excel(os.path.join(data_dir, \"Huth_2019\", \"Huth_2019_supplemental_table_2.xlsx\"), \n",
    "                        sheet_name = \"CRV-specific TCRs\", skiprows=3)\n",
    "print(df_CRV.shape)\n",
    "\n",
    "df_FRC = pd.read_excel(os.path.join(data_dir, \"Huth_2019\", \"Huth_2019_supplemental_table_2.xlsx\"), \n",
    "                        sheet_name = \"FRC-specific TCRs\", skiprows=3)\n",
    "print(df_FRC.shape)\n",
    "\n",
    "df_RPH = pd.read_excel(os.path.join(data_dir, \"Huth_2019\", \"Huth_2019_supplemental_table_2.xlsx\"), \n",
    "                        sheet_name = \"RPH-specific TCRs\", skiprows=3)\n",
    "print(df_RPH.shape)\n",
    "\n",
    "df_TPR = pd.read_excel(os.path.join(data_dir, \"Huth_2019\", \"Huth_2019_supplemental_table_2.xlsx\"), \n",
    "                        sheet_name = \"TPR-specific TCRs\", skiprows=3)\n",
    "print(df_TPR.shape)"
   ]
  },
  {
   "cell_type": "code",
   "execution_count": 11,
   "id": "8ac19ef3-2032-4595-b517-0b917cee5c20",
   "metadata": {},
   "outputs": [
    {
     "data": {
      "text/html": [
       "<div>\n",
       "<style scoped>\n",
       "    .dataframe tbody tr th:only-of-type {\n",
       "        vertical-align: middle;\n",
       "    }\n",
       "\n",
       "    .dataframe tbody tr th {\n",
       "        vertical-align: top;\n",
       "    }\n",
       "\n",
       "    .dataframe thead th {\n",
       "        text-align: right;\n",
       "    }\n",
       "</style>\n",
       "<table border=\"1\" class=\"dataframe\">\n",
       "  <thead>\n",
       "    <tr style=\"text-align: right;\">\n",
       "      <th></th>\n",
       "      <th>V.gene</th>\n",
       "      <th>CDR3.sequence</th>\n",
       "      <th>J.gene</th>\n",
       "      <th>Specificity</th>\n",
       "      <th>Donor</th>\n",
       "      <th>Sum.donors</th>\n",
       "      <th>Unnamed: 6</th>\n",
       "      <th>unique TCRs:</th>\n",
       "    </tr>\n",
       "  </thead>\n",
       "  <tbody>\n",
       "    <tr>\n",
       "      <th>0</th>\n",
       "      <td>TRBV25-1</td>\n",
       "      <td>CASSPGDEQFF</td>\n",
       "      <td>TRBJ2-1</td>\n",
       "      <td>CRV</td>\n",
       "      <td>P01,P05,P06,P07</td>\n",
       "      <td>4</td>\n",
       "      <td>NaN</td>\n",
       "      <td>435.0</td>\n",
       "    </tr>\n",
       "    <tr>\n",
       "      <th>1</th>\n",
       "      <td>TRBV25-1</td>\n",
       "      <td>CASTPGDEQFF</td>\n",
       "      <td>TRBJ2-1</td>\n",
       "      <td>CRV</td>\n",
       "      <td>P03,P06,P07</td>\n",
       "      <td>3</td>\n",
       "      <td>NaN</td>\n",
       "      <td>NaN</td>\n",
       "    </tr>\n",
       "    <tr>\n",
       "      <th>2</th>\n",
       "      <td>TRBV20-1</td>\n",
       "      <td>CSAPDWNNEQFF</td>\n",
       "      <td>TRBJ2-1</td>\n",
       "      <td>CRV</td>\n",
       "      <td>P01,P02</td>\n",
       "      <td>2</td>\n",
       "      <td>NaN</td>\n",
       "      <td>NaN</td>\n",
       "    </tr>\n",
       "    <tr>\n",
       "      <th>3</th>\n",
       "      <td>TRBV28</td>\n",
       "      <td>CASSFPDTQYF</td>\n",
       "      <td>TRBJ2-3</td>\n",
       "      <td>CRV</td>\n",
       "      <td>P01,P02</td>\n",
       "      <td>2</td>\n",
       "      <td>NaN</td>\n",
       "      <td>NaN</td>\n",
       "    </tr>\n",
       "    <tr>\n",
       "      <th>4</th>\n",
       "      <td>TRBV28</td>\n",
       "      <td>CASTPWGAEAFF</td>\n",
       "      <td>TRBJ1-1</td>\n",
       "      <td>CRV</td>\n",
       "      <td>P04,P08</td>\n",
       "      <td>2</td>\n",
       "      <td>NaN</td>\n",
       "      <td>NaN</td>\n",
       "    </tr>\n",
       "    <tr>\n",
       "      <th>5</th>\n",
       "      <td>TRBV28</td>\n",
       "      <td>CASSPISNEQFF</td>\n",
       "      <td>TRBJ2-1</td>\n",
       "      <td>CRV</td>\n",
       "      <td>P01,P07</td>\n",
       "      <td>2</td>\n",
       "      <td>NaN</td>\n",
       "      <td>NaN</td>\n",
       "    </tr>\n",
       "  </tbody>\n",
       "</table>\n",
       "</div>"
      ],
      "text/plain": [
       "     V.gene CDR3.sequence   J.gene Specificity            Donor  Sum.donors  \\\n",
       "0  TRBV25-1   CASSPGDEQFF  TRBJ2-1         CRV  P01,P05,P06,P07           4   \n",
       "1  TRBV25-1   CASTPGDEQFF  TRBJ2-1         CRV      P03,P06,P07           3   \n",
       "2  TRBV20-1  CSAPDWNNEQFF  TRBJ2-1         CRV          P01,P02           2   \n",
       "3    TRBV28   CASSFPDTQYF  TRBJ2-3         CRV          P01,P02           2   \n",
       "4    TRBV28  CASTPWGAEAFF  TRBJ1-1         CRV          P04,P08           2   \n",
       "5    TRBV28  CASSPISNEQFF  TRBJ2-1         CRV          P01,P07           2   \n",
       "\n",
       "   Unnamed: 6  unique TCRs:  \n",
       "0         NaN         435.0  \n",
       "1         NaN           NaN  \n",
       "2         NaN           NaN  \n",
       "3         NaN           NaN  \n",
       "4         NaN           NaN  \n",
       "5         NaN           NaN  "
      ]
     },
     "execution_count": 11,
     "metadata": {},
     "output_type": "execute_result"
    }
   ],
   "source": [
    "df_CRV[:6]"
   ]
  },
  {
   "cell_type": "code",
   "execution_count": 13,
   "id": "3d3f3218-e013-4877-b576-5baaf26ebd54",
   "metadata": {},
   "outputs": [
    {
     "data": {
      "text/plain": [
       "1052"
      ]
     },
     "execution_count": 13,
     "metadata": {},
     "output_type": "execute_result"
    }
   ],
   "source": [
    "V_gene_concat_list = df_CRV[\"V.gene\"].tolist() + \\\n",
    "                     df_FRC[\"V.gene\"].tolist() + \\\n",
    "                     df_RPH[\"V.gene\"].tolist() + \\\n",
    "                     df_TPR[\"V.gene\"].tolist()\n",
    "\n",
    "len(V_gene_concat_list)"
   ]
  },
  {
   "cell_type": "code",
   "execution_count": 15,
   "id": "3618f44f-3e0a-419e-9a32-ec0ce2490f49",
   "metadata": {},
   "outputs": [
    {
     "data": {
      "text/plain": [
       "41"
      ]
     },
     "execution_count": 15,
     "metadata": {},
     "output_type": "execute_result"
    }
   ],
   "source": [
    "raw_v_genes = list(set(V_gene_concat_list))\n",
    "raw_v_genes.sort()\n",
    "len(raw_v_genes)"
   ]
  },
  {
   "cell_type": "code",
   "execution_count": 16,
   "id": "9f1f6f52-e3da-428a-9434-71a9a30a4d1f",
   "metadata": {},
   "outputs": [
    {
     "data": {
      "text/plain": [
       "['TRBV10-1',\n",
       " 'TRBV10-2',\n",
       " 'TRBV10-3',\n",
       " 'TRBV11-1',\n",
       " 'TRBV11-2',\n",
       " 'TRBV11-3',\n",
       " 'TRBV12-2',\n",
       " 'TRBV12-3/12-4',\n",
       " 'TRBV12-5',\n",
       " 'TRBV13',\n",
       " 'TRBV14',\n",
       " 'TRBV15',\n",
       " 'TRBV18',\n",
       " 'TRBV19',\n",
       " 'TRBV2',\n",
       " 'TRBV20-1',\n",
       " 'TRBV24-1',\n",
       " 'TRBV25-1',\n",
       " 'TRBV27',\n",
       " 'TRBV28',\n",
       " 'TRBV29-1',\n",
       " 'TRBV3-1/3-2',\n",
       " 'TRBV30',\n",
       " 'TRBV4-1',\n",
       " 'TRBV4-2',\n",
       " 'TRBV4-3',\n",
       " 'TRBV5-1',\n",
       " 'TRBV5-4',\n",
       " 'TRBV5-6',\n",
       " 'TRBV5-8',\n",
       " 'TRBV6-1/6-5/6-6',\n",
       " 'TRBV6-2/6-3',\n",
       " 'TRBV6-4',\n",
       " 'TRBV7-2',\n",
       " 'TRBV7-3',\n",
       " 'TRBV7-4',\n",
       " 'TRBV7-6',\n",
       " 'TRBV7-7',\n",
       " 'TRBV7-8',\n",
       " 'TRBV7-9',\n",
       " 'TRBV9']"
      ]
     },
     "execution_count": 16,
     "metadata": {},
     "output_type": "execute_result"
    }
   ],
   "source": [
    "raw_v_genes"
   ]
  },
  {
   "cell_type": "code",
   "execution_count": 17,
   "id": "e6e6bc72-6bd4-4f75-be14-bfc394a60304",
   "metadata": {},
   "outputs": [
    {
     "data": {
      "text/plain": [
       "{'TCRBV01-01*01',\n",
       " 'TCRBV02-01*01',\n",
       " 'TCRBV03-01*01',\n",
       " 'TCRBV04-01*01',\n",
       " 'TCRBV04-02*01',\n",
       " 'TCRBV04-03*01',\n",
       " 'TCRBV05-01*01',\n",
       " 'TCRBV05-03*01',\n",
       " 'TCRBV05-04*01',\n",
       " 'TCRBV05-05*01',\n",
       " 'TCRBV05-06*01',\n",
       " 'TCRBV05-08*01',\n",
       " 'TCRBV06-01*01',\n",
       " 'TCRBV06-04*01',\n",
       " 'TCRBV06-05*01',\n",
       " 'TCRBV06-06*01',\n",
       " 'TCRBV06-07*01',\n",
       " 'TCRBV06-09*01',\n",
       " 'TCRBV07-02*01',\n",
       " 'TCRBV07-03*01',\n",
       " 'TCRBV07-04*01',\n",
       " 'TCRBV07-06*01',\n",
       " 'TCRBV07-07*01',\n",
       " 'TCRBV07-08*01',\n",
       " 'TCRBV07-08*02',\n",
       " 'TCRBV07-09*01',\n",
       " 'TCRBV08-02*01',\n",
       " 'TCRBV09-01*01',\n",
       " 'TCRBV10-01*01',\n",
       " 'TCRBV10-02*01',\n",
       " 'TCRBV10-03*01',\n",
       " 'TCRBV11-01*01',\n",
       " 'TCRBV11-02*02',\n",
       " 'TCRBV11-03*01',\n",
       " 'TCRBV12-01*01',\n",
       " 'TCRBV12-02*01',\n",
       " 'TCRBV12-05*01',\n",
       " 'TCRBV13-01*01',\n",
       " 'TCRBV14-01*01',\n",
       " 'TCRBV15-01*01',\n",
       " 'TCRBV16-01*01',\n",
       " 'TCRBV18-01*01',\n",
       " 'TCRBV19-01*01',\n",
       " 'TCRBV20-01*01',\n",
       " 'TCRBV21-01*01',\n",
       " 'TCRBV23-01*01',\n",
       " 'TCRBV25-01*01',\n",
       " 'TCRBV27-01*01',\n",
       " 'TCRBV28-01*01',\n",
       " 'TCRBV29-01*01',\n",
       " 'TCRBV30-01*01',\n",
       " 'TCRBV30-01*02'}"
      ]
     },
     "execution_count": 17,
     "metadata": {},
     "output_type": "execute_result"
    }
   ],
   "source": [
    "all_Emerson_Vs = [x.split(\",\")[0] for x in df_tcrs[\"TCR_name\"].tolist()]\n",
    "set(all_Emerson_Vs)"
   ]
  },
  {
   "cell_type": "code",
   "execution_count": 18,
   "id": "605d7924-4949-429b-ac7a-972a2a3afab8",
   "metadata": {},
   "outputs": [],
   "source": [
    "temp_list = list(set(all_Emerson_Vs))\n",
    "temp_list.sort()\n",
    "\n",
    "emerson_1st_layer = defaultdict(list)\n",
    "emerson_2nd_layer = defaultdict(list)\n",
    "\n",
    "for x in temp_list:\n",
    "    x_split_2nd = x.split(\"*\")\n",
    "    x_split_1st = x_split_2nd[0].split(\"-\")\n",
    "    emerson_1st_layer[x_split_1st[0]] += [x_split_1st[1]]\n",
    "    emerson_2nd_layer[x_split_2nd[0]] += [x_split_2nd[1]]    "
   ]
  },
  {
   "cell_type": "code",
   "execution_count": 19,
   "id": "140a27ae-6b87-4dff-8741-4e044684d43c",
   "metadata": {},
   "outputs": [
    {
     "data": {
      "text/plain": [
       "defaultdict(list,\n",
       "            {'TCRBV01': ['01'],\n",
       "             'TCRBV02': ['01'],\n",
       "             'TCRBV03': ['01'],\n",
       "             'TCRBV04': ['01', '02', '03'],\n",
       "             'TCRBV05': ['01', '03', '04', '05', '06', '08'],\n",
       "             'TCRBV06': ['01', '04', '05', '06', '07', '09'],\n",
       "             'TCRBV07': ['02', '03', '04', '06', '07', '08', '08', '09'],\n",
       "             'TCRBV08': ['02'],\n",
       "             'TCRBV09': ['01'],\n",
       "             'TCRBV10': ['01', '02', '03'],\n",
       "             'TCRBV11': ['01', '02', '03'],\n",
       "             'TCRBV12': ['01', '02', '05'],\n",
       "             'TCRBV13': ['01'],\n",
       "             'TCRBV14': ['01'],\n",
       "             'TCRBV15': ['01'],\n",
       "             'TCRBV16': ['01'],\n",
       "             'TCRBV18': ['01'],\n",
       "             'TCRBV19': ['01'],\n",
       "             'TCRBV20': ['01'],\n",
       "             'TCRBV21': ['01'],\n",
       "             'TCRBV23': ['01'],\n",
       "             'TCRBV25': ['01'],\n",
       "             'TCRBV27': ['01'],\n",
       "             'TCRBV28': ['01'],\n",
       "             'TCRBV29': ['01'],\n",
       "             'TCRBV30': ['01', '01']})"
      ]
     },
     "execution_count": 19,
     "metadata": {},
     "output_type": "execute_result"
    }
   ],
   "source": [
    "emerson_1st_layer"
   ]
  },
  {
   "cell_type": "code",
   "execution_count": 26,
   "id": "f859b77c-161b-49b4-b0ca-7505e6133e06",
   "metadata": {},
   "outputs": [],
   "source": [
    "# translate the format of V gene from Huth et al. 2019 data\n",
    "# if first num string has only one character, add 0\n",
    "# if no second num string, take the first one in the ordered Emerson list\n",
    "# if second num string has only one character, add 0\n",
    "# after the second num string, take the first one in the ordered Emerson list for the part after *\n",
    "\n",
    "huth_trans_dict = defaultdict(str)\n",
    "\n",
    "for x in raw_v_genes:\n",
    "    # manually set a few\n",
    "    if x in ['TRBV12-3/12-4', 'TRBV6-2/6-3']:\n",
    "        huth_trans_dict[x] = \"not_found\"\n",
    "    elif x=='TRBV3-1/3-2':\n",
    "        huth_trans_dict[x] = \"TCRBV03-01*01\"    \n",
    "    elif x=='TRBV6-1/6-5/6-6':\n",
    "        huth_trans_dict[x] = \"TCRBV06-01*01\"   \n",
    "    else:\n",
    "        # automatically set others\n",
    "        x_split = x.split(\"-\")\n",
    "        if len(x_split)==1:\n",
    "            if len(x_split[0])==5:\n",
    "                x_key = \"TCRBV0\"+x[-1]\n",
    "            else:\n",
    "                x_key = \"TCRBV\"+x_split[0][(-2):] \n",
    "            if x_key in emerson_1st_layer:\n",
    "                x_first_vs = emerson_1st_layer[x_key]\n",
    "                x_first_vs.sort()\n",
    "                x_key_2nd = x_key+\"-\"+x_first_vs[0]\n",
    "                x_second_vs = emerson_2nd_layer[x_key_2nd]\n",
    "                x_second_vs.sort()\n",
    "                x_value = x_key_2nd+\"*\"+x_second_vs[0]\n",
    "                huth_trans_dict[x] = x_value \n",
    "            else:\n",
    "                huth_trans_dict[x] = \"not_found\"\n",
    "        else:\n",
    "            if len(x_split[0])==5:\n",
    "                x_key = \"TCRBV0\"+x_split[0][-1]\n",
    "            else:\n",
    "                x_key = \"TCRBV\"+x_split[0][(-2):] \n",
    "            x_key_2nd = x_key+\"-0\"+x_split[1]\n",
    "            if x_key_2nd in emerson_2nd_layer:\n",
    "                x_second_vs = emerson_2nd_layer[x_key_2nd]\n",
    "                x_second_vs.sort()\n",
    "                x_value = x_key_2nd+\"*\"+x_second_vs[0]  \n",
    "                huth_trans_dict[x] = x_value \n",
    "            else:\n",
    "                huth_trans_dict[x] = \"not_found\""
   ]
  },
  {
   "cell_type": "code",
   "execution_count": 27,
   "id": "d9048930-06d0-4f45-a3fb-f510ca9cc982",
   "metadata": {},
   "outputs": [
    {
     "data": {
      "text/plain": [
       "41"
      ]
     },
     "execution_count": 27,
     "metadata": {},
     "output_type": "execute_result"
    }
   ],
   "source": [
    "len(huth_trans_dict)"
   ]
  },
  {
   "cell_type": "code",
   "execution_count": 28,
   "id": "81848961-6f8c-44de-8cbd-f61b2b72ff29",
   "metadata": {},
   "outputs": [
    {
     "name": "stdout",
     "output_type": "stream",
     "text": [
      "TRBV10-1: TCRBV10-01*01\n",
      "TRBV10-2: TCRBV10-02*01\n",
      "TRBV10-3: TCRBV10-03*01\n",
      "TRBV11-1: TCRBV11-01*01\n",
      "TRBV11-2: TCRBV11-02*02\n",
      "TRBV11-3: TCRBV11-03*01\n",
      "TRBV12-2: TCRBV12-02*01\n",
      "TRBV12-3/12-4: not_found\n",
      "TRBV12-5: TCRBV12-05*01\n",
      "TRBV13: TCRBV13-01*01\n",
      "TRBV14: TCRBV14-01*01\n",
      "TRBV15: TCRBV15-01*01\n",
      "TRBV18: TCRBV18-01*01\n",
      "TRBV19: TCRBV19-01*01\n",
      "TRBV2: TCRBV02-01*01\n",
      "TRBV20-1: TCRBV20-01*01\n",
      "TRBV24-1: not_found\n",
      "TRBV25-1: TCRBV25-01*01\n",
      "TRBV27: TCRBV27-01*01\n",
      "TRBV28: TCRBV28-01*01\n",
      "TRBV29-1: TCRBV29-01*01\n",
      "TRBV3-1/3-2: TCRBV03-01*01\n",
      "TRBV30: TCRBV30-01*01\n",
      "TRBV4-1: TCRBV04-01*01\n",
      "TRBV4-2: TCRBV04-02*01\n",
      "TRBV4-3: TCRBV04-03*01\n",
      "TRBV5-1: TCRBV05-01*01\n",
      "TRBV5-4: TCRBV05-04*01\n",
      "TRBV5-6: TCRBV05-06*01\n",
      "TRBV5-8: TCRBV05-08*01\n",
      "TRBV6-1/6-5/6-6: TCRBV06-01*01\n",
      "TRBV6-2/6-3: not_found\n",
      "TRBV6-4: TCRBV06-04*01\n",
      "TRBV7-2: TCRBV07-02*01\n",
      "TRBV7-3: TCRBV07-03*01\n",
      "TRBV7-4: TCRBV07-04*01\n",
      "TRBV7-6: TCRBV07-06*01\n",
      "TRBV7-7: TCRBV07-07*01\n",
      "TRBV7-8: TCRBV07-08*01\n",
      "TRBV7-9: TCRBV07-09*01\n",
      "TRBV9: TCRBV09-01*01\n"
     ]
    }
   ],
   "source": [
    "for x in raw_v_genes:\n",
    "    print(f\"{x}: {huth_trans_dict[x]}\")"
   ]
  },
  {
   "cell_type": "code",
   "execution_count": 29,
   "id": "68334737-eaa7-46d7-ba36-cbbc2eb16e1f",
   "metadata": {},
   "outputs": [
    {
     "data": {
      "text/plain": [
       "{'not_found'}"
      ]
     },
     "execution_count": 29,
     "metadata": {},
     "output_type": "execute_result"
    }
   ],
   "source": [
    "set(huth_trans_dict.values()) - set(temp_list)"
   ]
  },
  {
   "cell_type": "code",
   "execution_count": 30,
   "id": "a52b1686-c91e-4318-ac79-9d0e54428014",
   "metadata": {},
   "outputs": [
    {
     "data": {
      "text/plain": [
       "1052"
      ]
     },
     "execution_count": 30,
     "metadata": {},
     "output_type": "execute_result"
    }
   ],
   "source": [
    "CDR3_list = df_CRV[\"CDR3.sequence\"].tolist() + \\\n",
    "             df_FRC[\"CDR3.sequence\"].tolist() + \\\n",
    "             df_RPH[\"CDR3.sequence\"].tolist() + \\\n",
    "             df_TPR[\"CDR3.sequence\"].tolist()\n",
    "\n",
    "len(CDR3_list)"
   ]
  },
  {
   "cell_type": "code",
   "execution_count": 31,
   "id": "350b80f9-51ed-4ebb-ae09-0f98fcbef734",
   "metadata": {},
   "outputs": [
    {
     "data": {
      "text/plain": [
       "{'A',\n",
       " 'C',\n",
       " 'D',\n",
       " 'E',\n",
       " 'F',\n",
       " 'G',\n",
       " 'H',\n",
       " 'I',\n",
       " 'K',\n",
       " 'L',\n",
       " 'M',\n",
       " 'N',\n",
       " 'P',\n",
       " 'Q',\n",
       " 'R',\n",
       " 'S',\n",
       " 'T',\n",
       " 'V',\n",
       " 'W',\n",
       " 'Y'}"
      ]
     },
     "execution_count": 31,
     "metadata": {},
     "output_type": "execute_result"
    }
   ],
   "source": [
    "set(\"\".join(CDR3_list))"
   ]
  },
  {
   "cell_type": "code",
   "execution_count": 32,
   "id": "508f88e0-1e88-4e18-a234-ef7d9f617af5",
   "metadata": {},
   "outputs": [
    {
     "data": {
      "text/plain": [
       "20"
      ]
     },
     "execution_count": 32,
     "metadata": {},
     "output_type": "execute_result"
    }
   ],
   "source": [
    "len(set(\"\".join(CDR3_list)))"
   ]
  },
  {
   "cell_type": "code",
   "execution_count": 35,
   "id": "7bfc7785-e888-45ef-8b20-926d872dbd2c",
   "metadata": {},
   "outputs": [
    {
     "name": "stdout",
     "output_type": "stream",
     "text": [
      "435\n",
      "266\n",
      "191\n",
      "160\n",
      "351\n",
      "701\n"
     ]
    }
   ],
   "source": [
    "tcr_dict = defaultdict(list)\n",
    "\n",
    "\n",
    "CRV_list = [huth_trans_dict[x]+\",\"+y for x,y in zip(df_CRV[\"V.gene\"].tolist(),\n",
    "                                                    df_CRV[\"CDR3.sequence\"].tolist())]\n",
    "CRV_list = list(set(CRV_list))\n",
    "print(len(CRV_list))\n",
    "\n",
    "FRC_list = [huth_trans_dict[x]+\",\"+y for x,y in zip(df_FRC[\"V.gene\"].tolist(),\n",
    "                                                    df_FRC[\"CDR3.sequence\"].tolist())]\n",
    "FRC_list = list(set(FRC_list))\n",
    "print(len(FRC_list))\n",
    "\n",
    "RPH_list = [huth_trans_dict[x]+\",\"+y for x,y in zip(df_RPH[\"V.gene\"].tolist(),\n",
    "                                                    df_RPH[\"CDR3.sequence\"].tolist())]\n",
    "RPH_list = list(set(RPH_list))\n",
    "print(len(RPH_list))\n",
    "\n",
    "TPR_list = [huth_trans_dict[x]+\",\"+y for x,y in zip(df_TPR[\"V.gene\"].tolist(),\n",
    "                                                    df_TPR[\"CDR3.sequence\"].tolist())]\n",
    "TPR_list = list(set(TPR_list))\n",
    "print(len(TPR_list))\n",
    "\n",
    "# HLA-B*07:02: RPH, TPR\n",
    "# HLA-C*07:02: CRV, FRC\n",
    "\n",
    "B0702_list = list(set(RPH_list + TPR_list))\n",
    "C0702_list = list(set(CRV_list + FRC_list))\n",
    "\n",
    "print(len(B0702_list))\n",
    "print(len(C0702_list))\n",
    "\n",
    "tcr_dict[\"B0702\"] = B0702_list\n",
    "tcr_dict[\"C0702\"] = C0702_list"
   ]
  },
  {
   "cell_type": "code",
   "execution_count": 36,
   "id": "b509d1b2-1e8f-44e6-879f-25cbb712affa",
   "metadata": {},
   "outputs": [
    {
     "name": "stdout",
     "output_type": "stream",
     "text": [
      "54\n",
      "69\n"
     ]
    }
   ],
   "source": [
    "for key in [\"B0702\", \"C0702\"]:\n",
    "    cur_list = tcr_dict[key]\n",
    "    cur_common = set(cur_list).intersection(set(df_tcrs[\"TCR_name\"].tolist()))\n",
    "    print(len(cur_common))\n",
    "    df_common = pd.DataFrame(cur_common, columns=[\"TCR_name\"])\n",
    "    df_common.to_csv(os.path.join(inter_dir, f\"Huth_2019_TCRs_processed_common_{key}.csv\"), \n",
    "                     index=False)"
   ]
  },
  {
   "cell_type": "code",
   "execution_count": null,
   "id": "b7f89e87-01a6-4f6d-9688-3f0b895381c7",
   "metadata": {},
   "outputs": [],
   "source": []
  }
 ],
 "metadata": {
  "kernelspec": {
   "display_name": "Python 3 (ipykernel)",
   "language": "python",
   "name": "python3"
  },
  "language_info": {
   "codemirror_mode": {
    "name": "ipython",
    "version": 3
   },
   "file_extension": ".py",
   "mimetype": "text/x-python",
   "name": "python",
   "nbconvert_exporter": "python",
   "pygments_lexer": "ipython3",
   "version": "3.10.8"
  }
 },
 "nbformat": 4,
 "nbformat_minor": 5
}
